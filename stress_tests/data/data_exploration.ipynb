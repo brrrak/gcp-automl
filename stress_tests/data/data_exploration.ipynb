{
 "cells": [
  {
   "cell_type": "code",
   "execution_count": 1,
   "metadata": {},
   "outputs": [],
   "source": [
    "import pandas as pd\n",
    "import json\n",
    "from time import time\n",
    "from datetime import datetime\n",
    "from scipy.io.arff import loadarff"
   ]
  },
  {
   "cell_type": "code",
   "execution_count": 10,
   "metadata": {},
   "outputs": [
    {
     "name": "stdout",
     "output_type": "stream",
     "text": [
      "Classification 1\n",
      "Records: 19053 \tFeatures: 23\n",
      "Classification 2\n",
      "Records: 8926 \tFeatures: 97\n",
      "Classification 3\n",
      "Records: 61069 \tFeatures: 21\n",
      "Classification 4\n",
      "Records: 25000 \tFeatures: 601\n",
      "Regression 1\n",
      "Records: 9568 \tFeatures: 5\n"
     ]
    }
   ],
   "source": [
    "print(\"Classification 1\")\n",
    "data_path = \"https://github.com/h2oai/h2o-tutorials/raw/master/h2o-world-2017/automl/data/product_backorders.csv\"\n",
    "df = pd.read_csv(data_path)\n",
    "print(\"Records:\",df.shape[0],\"\\tFeatures:\", df.shape[1])\n",
    "\n",
    "print(\"Classification 2\")\n",
    "raw_data = loadarff('ElectricDevices_TRAIN.arff')\n",
    "df = pd.DataFrame(raw_data[0])\n",
    "print(\"Records:\",df.shape[0],\"\\tFeatures:\", df.shape[1])\n",
    "\n",
    "print(\"Classification 3\")\n",
    "df = pd.read_csv(\"secondary_data.csv\", delimiter = \";\")\n",
    "print(\"Records:\",df.shape[0],\"\\tFeatures:\", df.shape[1])\n",
    "\n",
    "print(\"Classification 4\")\n",
    "raw_data = loadarff('InsectSound_TRAIN.arff')\n",
    "df = pd.DataFrame(raw_data[0])\n",
    "print(\"Records:\",df.shape[0],\"\\tFeatures:\", df.shape[1])\n",
    "\n",
    "print(\"Regression 1\")\n",
    "data_path = \"https://github.com/h2oai/h2o-tutorials/raw/master/h2o-world-2017/automl/data/powerplant_output.csv\"\n",
    "df = pd.read_csv(data_path)\n",
    "print(\"Records:\",df.shape[0],\"\\tFeatures:\", df.shape[1])"
   ]
  }
 ],
 "metadata": {
  "kernelspec": {
   "display_name": "cmpe",
   "language": "python",
   "name": "python3"
  },
  "language_info": {
   "codemirror_mode": {
    "name": "ipython",
    "version": 3
   },
   "file_extension": ".py",
   "mimetype": "text/x-python",
   "name": "python",
   "nbconvert_exporter": "python",
   "pygments_lexer": "ipython3",
   "version": "3.9.12"
  },
  "orig_nbformat": 4,
  "vscode": {
   "interpreter": {
    "hash": "e046c4854a0ead724669b669fbe73a9cd95eb010f9b12bdea089bb538f0894c1"
   }
  }
 },
 "nbformat": 4,
 "nbformat_minor": 2
}
